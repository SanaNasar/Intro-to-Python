{
 "cells": [
  {
   "cell_type": "code",
   "execution_count": 3,
   "metadata": {
    "collapsed": true
   },
   "outputs": [],
   "source": [
    "import requests, json\n",
    "import pandas as pd\n",
    "import numpy as np"
   ]
  },
  {
   "cell_type": "markdown",
   "metadata": {},
   "source": [
    "### SF Open Data\n",
    "    - Guide: https://data.sfgov.org/developers\n",
    "    - Getting Data\n",
    "    https://data.sfgov.org/Public-Safety/SFPD-Incidents-from-1-January-2003/tmnf-yvry\n",
    "    - JSON Response: https://data.sfgov.org/resource/tmnf-yvry.json"
   ]
  },
  {
   "cell_type": "code",
   "execution_count": null,
   "metadata": {
    "collapsed": true
   },
   "outputs": [],
   "source": []
  },
  {
   "cell_type": "code",
   "execution_count": 4,
   "metadata": {
    "collapsed": false
   },
   "outputs": [
    {
     "name": "stdout",
     "output_type": "stream",
     "text": [
      "200\n"
     ]
    }
   ],
   "source": [
    "url = \"https://data.sfgov.org/resource/tmnf-yvry.json\"\n",
    "r = requests.get(url)\n",
    "print r.status_code"
   ]
  },
  {
   "cell_type": "code",
   "execution_count": 5,
   "metadata": {
    "collapsed": false
   },
   "outputs": [
    {
     "name": "stdout",
     "output_type": "stream",
     "text": [
      "586681\n"
     ]
    }
   ],
   "source": [
    "print len(r.content)"
   ]
  },
  {
   "cell_type": "code",
   "execution_count": 6,
   "metadata": {
    "collapsed": false
   },
   "outputs": [
    {
     "name": "stdout",
     "output_type": "stream",
     "text": [
      "<type 'str'>\n"
     ]
    }
   ],
   "source": [
    "print type(r.content)"
   ]
  },
  {
   "cell_type": "code",
   "execution_count": 7,
   "metadata": {
    "collapsed": false
   },
   "outputs": [
    {
     "name": "stdout",
     "output_type": "stream",
     "text": [
      "[ {\n",
      "  \"time\" : \"23:45\",\n",
      "  \"category\" : \"LARCENY/THEFT\",\n",
      "  \"pddistrict\" : \"NORTHERN\",\n",
      "  \"pdid\" : \"166\n"
     ]
    }
   ],
   "source": [
    "print r.content[:100]"
   ]
  },
  {
   "cell_type": "code",
   "execution_count": 8,
   "metadata": {
    "collapsed": false
   },
   "outputs": [],
   "source": [
    "data = json.loads(r.content)"
   ]
  },
  {
   "cell_type": "code",
   "execution_count": 9,
   "metadata": {
    "collapsed": false
   },
   "outputs": [
    {
     "data": {
      "text/plain": [
       "dict"
      ]
     },
     "execution_count": 9,
     "metadata": {},
     "output_type": "execute_result"
    }
   ],
   "source": [
    "type(data[1])"
   ]
  },
  {
   "cell_type": "code",
   "execution_count": 11,
   "metadata": {
    "collapsed": false
   },
   "outputs": [],
   "source": [
    "# data[0]"
   ]
  },
  {
   "cell_type": "code",
   "execution_count": 12,
   "metadata": {
    "collapsed": true
   },
   "outputs": [],
   "source": [
    "df = pd.DataFrame(data)"
   ]
  },
  {
   "cell_type": "code",
   "execution_count": 13,
   "metadata": {
    "collapsed": false
   },
   "outputs": [
    {
     "data": {
      "text/html": [
       "<div>\n",
       "<table border=\"1\" class=\"dataframe\">\n",
       "  <thead>\n",
       "    <tr style=\"text-align: right;\">\n",
       "      <th></th>\n",
       "      <th>address</th>\n",
       "      <th>category</th>\n",
       "      <th>date</th>\n",
       "      <th>dayofweek</th>\n",
       "      <th>descript</th>\n",
       "      <th>incidntnum</th>\n",
       "      <th>location</th>\n",
       "      <th>pddistrict</th>\n",
       "      <th>pdid</th>\n",
       "      <th>resolution</th>\n",
       "      <th>time</th>\n",
       "      <th>x</th>\n",
       "      <th>y</th>\n",
       "    </tr>\n",
       "  </thead>\n",
       "  <tbody>\n",
       "    <tr>\n",
       "      <th>0</th>\n",
       "      <td>LAGUNA ST / GALILEE LN</td>\n",
       "      <td>LARCENY/THEFT</td>\n",
       "      <td>2016-06-05T00:00:00</td>\n",
       "      <td>Sunday</td>\n",
       "      <td>GRAND THEFT FROM LOCKED AUTO</td>\n",
       "      <td>166126405</td>\n",
       "      <td>{u'latitude': u'37.7839237201691', u'needs_rec...</td>\n",
       "      <td>NORTHERN</td>\n",
       "      <td>16612640506244</td>\n",
       "      <td>NONE</td>\n",
       "      <td>23:45</td>\n",
       "      <td>-122.427780988735</td>\n",
       "      <td>37.7839237201691</td>\n",
       "    </tr>\n",
       "    <tr>\n",
       "      <th>1</th>\n",
       "      <td>2100 Block of 12TH AV</td>\n",
       "      <td>OTHER OFFENSES</td>\n",
       "      <td>2016-06-05T00:00:00</td>\n",
       "      <td>Sunday</td>\n",
       "      <td>VIOLATION OF RESTRAINING ORDER</td>\n",
       "      <td>160460079</td>\n",
       "      <td>{u'latitude': u'37.7485341209123', u'needs_rec...</td>\n",
       "      <td>TARAVAL</td>\n",
       "      <td>16046007915161</td>\n",
       "      <td>ARREST, BOOKED</td>\n",
       "      <td>23:30</td>\n",
       "      <td>-122.468521716179</td>\n",
       "      <td>37.7485341209123</td>\n",
       "    </tr>\n",
       "  </tbody>\n",
       "</table>\n",
       "</div>"
      ],
      "text/plain": [
       "                  address        category                 date dayofweek  \\\n",
       "0  LAGUNA ST / GALILEE LN   LARCENY/THEFT  2016-06-05T00:00:00    Sunday   \n",
       "1   2100 Block of 12TH AV  OTHER OFFENSES  2016-06-05T00:00:00    Sunday   \n",
       "\n",
       "                         descript incidntnum  \\\n",
       "0    GRAND THEFT FROM LOCKED AUTO  166126405   \n",
       "1  VIOLATION OF RESTRAINING ORDER  160460079   \n",
       "\n",
       "                                            location pddistrict  \\\n",
       "0  {u'latitude': u'37.7839237201691', u'needs_rec...   NORTHERN   \n",
       "1  {u'latitude': u'37.7485341209123', u'needs_rec...    TARAVAL   \n",
       "\n",
       "             pdid      resolution   time                  x                 y  \n",
       "0  16612640506244            NONE  23:45  -122.427780988735  37.7839237201691  \n",
       "1  16046007915161  ARREST, BOOKED  23:30  -122.468521716179  37.7485341209123  "
      ]
     },
     "execution_count": 13,
     "metadata": {},
     "output_type": "execute_result"
    }
   ],
   "source": [
    "df.head(2)"
   ]
  },
  {
   "cell_type": "code",
   "execution_count": 14,
   "metadata": {
    "collapsed": false
   },
   "outputs": [
    {
     "data": {
      "text/plain": [
       "LARCENY/THEFT                  262\n",
       "NON-CRIMINAL                   128\n",
       "ASSAULT                        121\n",
       "OTHER OFFENSES                 121\n",
       "VANDALISM                       76\n",
       "VEHICLE THEFT                   49\n",
       "BURGLARY                        35\n",
       "SUSPICIOUS OCC                  31\n",
       "DRUG/NARCOTIC                   31\n",
       "WARRANTS                        25\n",
       "ROBBERY                         20\n",
       "MISSING PERSON                  18\n",
       "WEAPON LAWS                     15\n",
       "TRESPASS                        12\n",
       "SECONDARY CODES                  9\n",
       "SEX OFFENSES, FORCIBLE           8\n",
       "DRUNKENNESS                      7\n",
       "STOLEN PROPERTY                  6\n",
       "FRAUD                            5\n",
       "DRIVING UNDER THE INFLUENCE      4\n",
       "DISORDERLY CONDUCT               3\n",
       "RECOVERED VEHICLE                3\n",
       "FORGERY/COUNTERFEITING           3\n",
       "KIDNAPPING                       3\n",
       "ARSON                            2\n",
       "BRIBERY                          1\n",
       "FAMILY OFFENSES                  1\n",
       "LIQUOR LAWS                      1\n",
       "Name: category, dtype: int64"
      ]
     },
     "execution_count": 14,
     "metadata": {},
     "output_type": "execute_result"
    }
   ],
   "source": [
    "df['category'].value_counts()"
   ]
  },
  {
   "cell_type": "code",
   "execution_count": null,
   "metadata": {
    "collapsed": true
   },
   "outputs": [],
   "source": []
  }
 ],
 "metadata": {
  "kernelspec": {
   "display_name": "Python 2",
   "language": "python",
   "name": "python2"
  },
  "language_info": {
   "codemirror_mode": {
    "name": "ipython",
    "version": 2
   },
   "file_extension": ".py",
   "mimetype": "text/x-python",
   "name": "python",
   "nbconvert_exporter": "python",
   "pygments_lexer": "ipython2",
   "version": "2.7.11"
  }
 },
 "nbformat": 4,
 "nbformat_minor": 0
}
